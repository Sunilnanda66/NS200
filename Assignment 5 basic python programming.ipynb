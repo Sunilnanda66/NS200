{
 "cells": [
  {
   "cell_type": "code",
   "execution_count": 1,
   "id": "ad4a02af",
   "metadata": {},
   "outputs": [],
   "source": [
    "## Write a Python Program to Find LCM?"
   ]
  },
  {
   "cell_type": "code",
   "execution_count": 8,
   "id": "5dd37cd9",
   "metadata": {},
   "outputs": [
    {
     "name": "stdout",
     "output_type": "stream",
     "text": [
      "Program to find LCM\n",
      "Enter the first number8\n",
      "enter the second number6\n",
      "lcm of the number is  24\n"
     ]
    }
   ],
   "source": [
    "print(\"Program to find LCM\")\n",
    "a=int(input(\"Enter the first number\"))\n",
    "b=int(input(\"enter the second number\"))\n",
    "\n",
    "for i in range (1,a*b+1):\n",
    "    if i%a==0 and i%b==0:\n",
    "        print(\"lcm of the number is \",i)\n",
    "        break"
   ]
  },
  {
   "cell_type": "code",
   "execution_count": null,
   "id": "129ed751",
   "metadata": {},
   "outputs": [],
   "source": [
    "## Write a Python Program to Find HCF?"
   ]
  },
  {
   "cell_type": "code",
   "execution_count": 16,
   "id": "c5268e67",
   "metadata": {},
   "outputs": [
    {
     "name": "stdout",
     "output_type": "stream",
     "text": [
      "program to find Hcf\n",
      "enter the first number36\n",
      "enter the second number20\n",
      "the HCF of the number is  4\n"
     ]
    }
   ],
   "source": [
    "\n",
    "print(\"program to find Hcf\")\n",
    "m=int(input(\"enter the first number\"))\n",
    "n=int(input(\"enter the second number\"))\n",
    "while m%n!=0 :\n",
    "    rem=m%n\n",
    "    m=n\n",
    "    n=rem\n",
    "hcf=n\n",
    "print(\"the HCF of the number is \",hcf)\n",
    "    \n",
    "    "
   ]
  },
  {
   "cell_type": "code",
   "execution_count": 17,
   "id": "6fa9b1c6",
   "metadata": {},
   "outputs": [],
   "source": [
    "## Write a Python Program to Convert Decimal to Binary, Octal and Hexadecimal?"
   ]
  },
  {
   "cell_type": "code",
   "execution_count": 18,
   "id": "f0f8e02b",
   "metadata": {},
   "outputs": [
    {
     "name": "stdout",
     "output_type": "stream",
     "text": [
      "Enter the value\n",
      "25\n",
      "25 the binary vaule is  = 0b11001\n",
      "25 the binary vaule is  = 0o31\n",
      "25 the binary vaule is  = 0x19\n"
     ]
    }
   ],
   "source": [
    "n=int(input(\"Enter the value\\n\"))\n",
    "print(n,\"the binary vaule is  =\",bin(n))\n",
    "print(n,\"the binary vaule is  =\",oct(n))\n",
    "print(n,\"the binary vaule is  =\",hex(n))\n"
   ]
  },
  {
   "cell_type": "code",
   "execution_count": 20,
   "id": "edf53187",
   "metadata": {},
   "outputs": [],
   "source": [
    "##Write a Python Program To Find ASCII value of a character?"
   ]
  },
  {
   "cell_type": "code",
   "execution_count": 23,
   "id": "9cbe5e0a",
   "metadata": {},
   "outputs": [
    {
     "name": "stdout",
     "output_type": "stream",
     "text": [
      "enter the values\n",
      "the ascii value is 115\n"
     ]
    }
   ],
   "source": [
    "val=input(\"enter the value\")\n",
    "print(\"the ascii value is\",ord(val))"
   ]
  },
  {
   "cell_type": "code",
   "execution_count": 24,
   "id": "7394ba4d",
   "metadata": {},
   "outputs": [],
   "source": [
    "##Write a Python Program to Make a Simple Calculator with 4 basic mathematical operations?"
   ]
  },
  {
   "cell_type": "code",
   "execution_count": 94,
   "id": "43fc82f2",
   "metadata": {},
   "outputs": [
    {
     "name": "stdout",
     "output_type": "stream",
     "text": [
      "enter the first value2\n",
      "enter the seconf value3\n",
      "0. Exit\n",
      "1. Add\n",
      "2. Subtraction\n",
      "3. Multiplication\n",
      "4. Division\n",
      "Enter choice: 1\n",
      "addition is  5\n",
      "Result:  None\n",
      "0. Exit\n",
      "1. Add\n",
      "2. Subtraction\n",
      "3. Multiplication\n",
      "4. Division\n",
      "Enter choice: 3\n",
      " the multiplication is  6\n",
      "Result:  None\n",
      "0. Exit\n",
      "1. Add\n",
      "2. Subtraction\n",
      "3. Multiplication\n",
      "4. Division\n",
      "Enter choice: 0\n",
      "Exiting!\n"
     ]
    }
   ],
   "source": [
    "class calculator():\n",
    "    def __init__(self,num1,num2):\n",
    "        self.num1=num1\n",
    "        self.num2=num2\n",
    "    def add(self):\n",
    "        print(\"addition is \",(num1+num2))\n",
    "    def sub(self):\n",
    "        print(\"subtraction is \",num1-num2)\n",
    "    def multiply(self):\n",
    "        print(\" the multiplication is \",num1*num2)\n",
    "    def divide(self):\n",
    "        print(\"the division is \",num1/num2)\n",
    "num1=int(input(\"enter the first value\"))\n",
    "num2=int(input(\"enter the seconf value\"))\n",
    "app=calculator(num1,num2)\n",
    "choice=1\n",
    "while choice!=0:\n",
    "    print(\"0. Exit\")\n",
    "    print(\"1. Add\")\n",
    "    print(\"2. Subtraction\")\n",
    "    print(\"3. Multiplication\")\n",
    "    print(\"4. Division\")\n",
    "    choice=int(input(\"Enter choice: \"))\n",
    "    if choice==1:\n",
    "        print(\"Result: \",app.add())\n",
    "    elif choice==2:\n",
    "        print(\"Result: \",app.sub())\n",
    "    elif choice==3:\n",
    "        print(\"Result: \",app.multiply())\n",
    "    elif choice==4:\n",
    "        print(\"Result: \",round(app.divide(),2))\n",
    "    elif choice==0:\n",
    "        print(\"Exiting!\")"
   ]
  },
  {
   "cell_type": "code",
   "execution_count": null,
   "id": "175743ca",
   "metadata": {},
   "outputs": [],
   "source": []
  },
  {
   "cell_type": "code",
   "execution_count": null,
   "id": "29665b44",
   "metadata": {},
   "outputs": [],
   "source": []
  },
  {
   "cell_type": "code",
   "execution_count": null,
   "id": "e2f0a6ad",
   "metadata": {},
   "outputs": [],
   "source": []
  },
  {
   "cell_type": "code",
   "execution_count": null,
   "id": "ed65c800",
   "metadata": {},
   "outputs": [],
   "source": []
  }
 ],
 "metadata": {
  "kernelspec": {
   "display_name": "Python 3",
   "language": "python",
   "name": "python3"
  },
  "language_info": {
   "codemirror_mode": {
    "name": "ipython",
    "version": 3
   },
   "file_extension": ".py",
   "mimetype": "text/x-python",
   "name": "python",
   "nbconvert_exporter": "python",
   "pygments_lexer": "ipython3",
   "version": "3.8.8"
  }
 },
 "nbformat": 4,
 "nbformat_minor": 5
}
