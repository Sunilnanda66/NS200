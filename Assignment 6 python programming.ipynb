{
 "cells": [
  {
   "cell_type": "code",
   "execution_count": 1,
   "id": "e9398624",
   "metadata": {},
   "outputs": [],
   "source": [
    "##Write a Python Program to Display Fibonacci Sequence Using Recursion?"
   ]
  },
  {
   "cell_type": "code",
   "execution_count": null,
   "id": "e081e655",
   "metadata": {},
   "outputs": [],
   "source": [
    "def fibonacci(i):\n",
    "    if i ==0:\n",
    "        return 0\n",
    "    elif i==1:\n",
    "        return 1\n",
    "    else:\n",
    "        return fibonacci(i-2)+fibonacci(i-1)\n",
    "for x in range(int(input(\"enter the number\"))):\n",
    "    print(fibonacci(x))"
   ]
  },
  {
   "cell_type": "code",
   "execution_count": null,
   "id": "b0aabec1",
   "metadata": {},
   "outputs": [],
   "source": [
    "##Write a Python Program to Find Factorial of Number Using Recursion?"
   ]
  },
  {
   "cell_type": "code",
   "execution_count": 11,
   "id": "1a7c66dd",
   "metadata": {},
   "outputs": [
    {
     "name": "stdout",
     "output_type": "stream",
     "text": [
      "enter the number7\n",
      "the factorial of number 7 is 5040\n"
     ]
    }
   ],
   "source": [
    "def factorial(n):\n",
    "    if n==1 or n==0:\n",
    "        return 1\n",
    "    else :\n",
    "        return n* factorial(n-1)\n",
    "x= int(input(\"enter the number\",))\n",
    "if x==0:\n",
    "    print(\"factorial does not exist\")\n",
    "elif x==1:\n",
    "    print(\"the factorial is 1\")\n",
    "else:\n",
    "    print(\"the factorial of number\",x,\"is\",factorial(x))"
   ]
  },
  {
   "cell_type": "code",
   "execution_count": 12,
   "id": "f6ff3498",
   "metadata": {},
   "outputs": [],
   "source": [
    "## Write a Python Program to calculate your Body Mass Index?"
   ]
  },
  {
   "cell_type": "code",
   "execution_count": 14,
   "id": "a748c63e",
   "metadata": {},
   "outputs": [
    {
     "name": "stdout",
     "output_type": "stream",
     "text": [
      "enter your height in meters5.8\n",
      "enter your weightin kgs65\n",
      "Body mass index is 11 2\n"
     ]
    }
   ],
   "source": [
    "height=float(input(\"enter your height in meters\"))\n",
    "weight =float(input(\"enter your weightin kgs\"))\n",
    "print(\"Body mass index is\",round(weight/height),2)"
   ]
  },
  {
   "cell_type": "code",
   "execution_count": 15,
   "id": "ddae317f",
   "metadata": {},
   "outputs": [],
   "source": [
    "## Write a Python Program to calculate the natural logarithm of any number?"
   ]
  },
  {
   "cell_type": "code",
   "execution_count": 16,
   "id": "e1d1fb43",
   "metadata": {},
   "outputs": [
    {
     "name": "stdout",
     "output_type": "stream",
     "text": [
      "enter the number7\n"
     ]
    },
    {
     "data": {
      "text/plain": [
       "1.9459101490553132"
      ]
     },
     "execution_count": 16,
     "metadata": {},
     "output_type": "execute_result"
    }
   ],
   "source": [
    "import math\n",
    "x=float(input(\"enter the number\"))\n",
    "math.log(x)"
   ]
  },
  {
   "cell_type": "code",
   "execution_count": 17,
   "id": "430b93f5",
   "metadata": {},
   "outputs": [],
   "source": [
    "##Write a Python Program for cube sum of first n natural numbers?"
   ]
  },
  {
   "cell_type": "code",
   "execution_count": 18,
   "id": "23c22ab8",
   "metadata": {},
   "outputs": [
    {
     "name": "stdout",
     "output_type": "stream",
     "text": [
      "enter the value5\n",
      "the cube sum is 225\n"
     ]
    }
   ],
   "source": [
    "n=int(input(\"enter the value\"))\n",
    "s=0\n",
    "for i in range (1,n+1):\n",
    "    s+=i**3\n",
    "print(\"the cube sum is\",s)"
   ]
  },
  {
   "cell_type": "code",
   "execution_count": null,
   "id": "470c34c3",
   "metadata": {},
   "outputs": [],
   "source": []
  }
 ],
 "metadata": {
  "kernelspec": {
   "display_name": "Python 3",
   "language": "python",
   "name": "python3"
  },
  "language_info": {
   "codemirror_mode": {
    "name": "ipython",
    "version": 3
   },
   "file_extension": ".py",
   "mimetype": "text/x-python",
   "name": "python",
   "nbconvert_exporter": "python",
   "pygments_lexer": "ipython3",
   "version": "3.8.8"
  }
 },
 "nbformat": 4,
 "nbformat_minor": 5
}
