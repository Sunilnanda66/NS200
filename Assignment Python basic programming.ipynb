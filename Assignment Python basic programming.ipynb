{
 "cells": [
  {
   "cell_type": "code",
   "execution_count": null,
   "id": "396234db",
   "metadata": {},
   "outputs": [],
   "source": [
    "#Write a Python program to print \"hello python\""
   ]
  },
  {
   "cell_type": "code",
   "execution_count": null,
   "id": "789e5232",
   "metadata": {},
   "outputs": [],
   "source": [
    "print(\"Hello Python\")"
   ]
  },
  {
   "cell_type": "code",
   "execution_count": null,
   "id": "a1433790",
   "metadata": {},
   "outputs": [],
   "source": [
    "#Write a Python program to do arithmetical operations addition and division.?"
   ]
  },
  {
   "cell_type": "code",
   "execution_count": null,
   "id": "1b90f1a0",
   "metadata": {},
   "outputs": [],
   "source": [
    "a=10\n",
    "b=20\n",
    "c=(a+b)"
   ]
  },
  {
   "cell_type": "code",
   "execution_count": null,
   "id": "7f3ff463",
   "metadata": {},
   "outputs": [],
   "source": [
    "c"
   ]
  },
  {
   "cell_type": "code",
   "execution_count": null,
   "id": "326feabc",
   "metadata": {},
   "outputs": [],
   "source": [
    "c=a/b"
   ]
  },
  {
   "cell_type": "code",
   "execution_count": null,
   "id": "d5a365f8",
   "metadata": {},
   "outputs": [],
   "source": [
    "c"
   ]
  },
  {
   "cell_type": "code",
   "execution_count": null,
   "id": "1dc31940",
   "metadata": {},
   "outputs": [],
   "source": [
    "#Write a Python program to find the area of a triangle?"
   ]
  },
  {
   "cell_type": "code",
   "execution_count": 14,
   "id": "7cb79c74",
   "metadata": {},
   "outputs": [
    {
     "name": "stdout",
     "output_type": "stream",
     "text": [
      "height of triangle5\n",
      "base of triangle2\n"
     ]
    }
   ],
   "source": [
    "h=input(\"height of triangle\")\n",
    "b=input(\"base of triangle\")\n",
    "a=int(h)*int(b)\n",
    "a=a/2"
   ]
  },
  {
   "cell_type": "code",
   "execution_count": 15,
   "id": "b41a1276",
   "metadata": {},
   "outputs": [
    {
     "data": {
      "text/plain": [
       "5.0"
      ]
     },
     "execution_count": 15,
     "metadata": {},
     "output_type": "execute_result"
    }
   ],
   "source": [
    "a"
   ]
  },
  {
   "cell_type": "code",
   "execution_count": null,
   "id": "3a2426f7",
   "metadata": {},
   "outputs": [],
   "source": [
    "#Write a Python program to swap two variables?"
   ]
  },
  {
   "cell_type": "code",
   "execution_count": 20,
   "id": "2842804e",
   "metadata": {},
   "outputs": [
    {
     "name": "stdout",
     "output_type": "stream",
     "text": [
      "enter the value7\n",
      "enter second value6\n"
     ]
    }
   ],
   "source": [
    "a=input(\"enter the first varibale\")\n",
    "b=input(\"enter second variable\")\n",
    "x=0\n",
    "x=a\n",
    "a=b\n",
    "b=x\n"
   ]
  },
  {
   "cell_type": "code",
   "execution_count": 22,
   "id": "43eaf70a",
   "metadata": {},
   "outputs": [
    {
     "data": {
      "text/plain": [
       "('7', '6')"
      ]
     },
     "execution_count": 22,
     "metadata": {},
     "output_type": "execute_result"
    }
   ],
   "source": [
    "b,a"
   ]
  },
  {
   "cell_type": "code",
   "execution_count": null,
   "id": "da055acd",
   "metadata": {},
   "outputs": [],
   "source": [
    "#Write a Python program to generate a random number?"
   ]
  },
  {
   "cell_type": "code",
   "execution_count": 24,
   "id": "d59deeb4",
   "metadata": {},
   "outputs": [
    {
     "name": "stdout",
     "output_type": "stream",
     "text": [
      "3\n"
     ]
    }
   ],
   "source": [
    "import random\n",
    "a=[1,2,3,4,5]\n",
    "print(random.choice(a))"
   ]
  },
  {
   "cell_type": "code",
   "execution_count": null,
   "id": "a3eca26a",
   "metadata": {},
   "outputs": [],
   "source": []
  }
 ],
 "metadata": {
  "kernelspec": {
   "display_name": "Python 3",
   "language": "python",
   "name": "python3"
  },
  "language_info": {
   "codemirror_mode": {
    "name": "ipython",
    "version": 3
   },
   "file_extension": ".py",
   "mimetype": "text/x-python",
   "name": "python",
   "nbconvert_exporter": "python",
   "pygments_lexer": "ipython3",
   "version": "3.8.8"
  }
 },
 "nbformat": 4,
 "nbformat_minor": 5
}
