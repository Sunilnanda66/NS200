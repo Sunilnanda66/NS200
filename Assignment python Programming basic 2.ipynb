{
 "cells": [
  {
   "cell_type": "code",
   "execution_count": 1,
   "id": "0d1e0dfd",
   "metadata": {},
   "outputs": [],
   "source": [
    "#Write a Python program to convert kilometers to miles?"
   ]
  },
  {
   "cell_type": "code",
   "execution_count": 22,
   "id": "fa305128",
   "metadata": {},
   "outputs": [
    {
     "name": "stdout",
     "output_type": "stream",
     "text": [
      "enter the number of kilometers1\n",
      "0.621371\n"
     ]
    }
   ],
   "source": [
    "a=input(\"enter the number of kilometers\")\n",
    "b=float(0.621371)\n",
    "miles=float(b)*float(a)\n",
    "print(miles)"
   ]
  },
  {
   "cell_type": "markdown",
   "id": "ab442699",
   "metadata": {},
   "source": [
    "miles"
   ]
  },
  {
   "cell_type": "code",
   "execution_count": 23,
   "id": "ec254f38",
   "metadata": {},
   "outputs": [],
   "source": [
    "#Write a Python program to convert Celsius to Fahrenheit?"
   ]
  },
  {
   "cell_type": "raw",
   "id": "4bb74634",
   "metadata": {},
   "source": []
  },
  {
   "cell_type": "code",
   "execution_count": 31,
   "id": "fd831d9a",
   "metadata": {},
   "outputs": [
    {
     "name": "stdout",
     "output_type": "stream",
     "text": [
      "enter the celsius40\n",
      "104.0\n"
     ]
    }
   ],
   "source": [
    "c=input(\"enter the celsius\")\n",
    "f=float(c)*float(1.8)+float(32)\n",
    "print(f)"
   ]
  },
  {
   "cell_type": "code",
   "execution_count": 29,
   "id": "bd09bace",
   "metadata": {},
   "outputs": [],
   "source": [
    "#Write a Python program to display calendar?"
   ]
  },
  {
   "cell_type": "code",
   "execution_count": 33,
   "id": "f763797e",
   "metadata": {},
   "outputs": [
    {
     "name": "stdout",
     "output_type": "stream",
     "text": [
      "Enter year: 2021\n",
      "Enter month: 07\n",
      "     July 2021\n",
      "Mo Tu We Th Fr Sa Su\n",
      "          1  2  3  4\n",
      " 5  6  7  8  9 10 11\n",
      "12 13 14 15 16 17 18\n",
      "19 20 21 22 23 24 25\n",
      "26 27 28 29 30 31\n",
      "\n"
     ]
    }
   ],
   "source": [
    "import calendar\n",
    "\n",
    "yy = int(input(\"Enter year: \"))  \n",
    "mm = int(input(\"Enter month: \"))    \n",
    "print(calendar.month(yy,mm)) "
   ]
  },
  {
   "cell_type": "code",
   "execution_count": 34,
   "id": "2f0a5a99",
   "metadata": {},
   "outputs": [],
   "source": [
    "#Write a Python program to solve quadratic equation?"
   ]
  },
  {
   "cell_type": "code",
   "execution_count": 1,
   "id": "89e6f8f9",
   "metadata": {},
   "outputs": [
    {
     "name": "stdout",
     "output_type": "stream",
     "text": [
      "enter the number2\n",
      "enter the number3\n",
      "enter the number67\n",
      "The solution are (-0.75-5.739120141624499j) and (-0.75+5.739120141624499j)\n"
     ]
    }
   ],
   "source": [
    "import cmath\n",
    "\n",
    "a=float(input(\"enter the number\"))\n",
    "b=float(input(\"enter the number\"))\n",
    "c=float(input(\"enter the number\"))\n",
    "\n",
    "d=(b**2)-(4*a*c)\n",
    "\n",
    "sol1 = (-b-cmath.sqrt(d))/(2*a)  \n",
    "sol2 = (-b+cmath.sqrt(d))/(2*a)\n",
    "\n",
    "print('The solution are {0} and {1}'.format(sol1,sol2))  \n",
    "\n",
    "\n"
   ]
  },
  {
   "cell_type": "code",
   "execution_count": 3,
   "id": "66a0b221",
   "metadata": {},
   "outputs": [],
   "source": [
    "#Write a Python program to swap two variables without temp variable?"
   ]
  },
  {
   "cell_type": "code",
   "execution_count": 4,
   "id": "f8be7c76",
   "metadata": {},
   "outputs": [
    {
     "name": "stdout",
     "output_type": "stream",
     "text": [
      "enter the first value to be swapped3\n",
      "enter the second value to be swapped7\n",
      "after sswaping a= 10 b= 3\n"
     ]
    }
   ],
   "source": [
    "a=int(input(\"enter the first value to be swapped\"))\n",
    "b=int(input(\"enter the second value to be swapped\"))\n",
    "a=a+b\n",
    "b=a-b\n",
    "print(\"after swaping a=\",a,\"b=\",b)\n"
   ]
  },
  {
   "cell_type": "code",
   "execution_count": null,
   "id": "96a27842",
   "metadata": {},
   "outputs": [],
   "source": []
  }
 ],
 "metadata": {
  "kernelspec": {
   "display_name": "Python 3",
   "language": "python",
   "name": "python3"
  },
  "language_info": {
   "codemirror_mode": {
    "name": "ipython",
    "version": 3
   },
   "file_extension": ".py",
   "mimetype": "text/x-python",
   "name": "python",
   "nbconvert_exporter": "python",
   "pygments_lexer": "ipython3",
   "version": "3.8.8"
  }
 },
 "nbformat": 4,
 "nbformat_minor": 5
}
